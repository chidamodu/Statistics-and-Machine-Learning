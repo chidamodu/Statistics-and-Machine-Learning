{
 "cells": [
  {
   "cell_type": "code",
   "execution_count": 1,
   "metadata": {},
   "outputs": [
    {
     "name": "stdout",
     "output_type": "stream",
     "text": [
      "0.208\n"
     ]
    }
   ],
   "source": [
    "# formula: slope = (n*x_y - x*y) / (n*x_x - x*x)\n",
    "\n",
    "def slope(x,y,n):\n",
    "    num = (n * sum([x[i]*y[i] for i in range(n)])) - sum(x)*sum(y)\n",
    "    den = (n * sum([x[i]**2 for i in range(n)])) - sum(x)**2\n",
    "    return num/den\n",
    "\n",
    "phy = [15, 12, 8, 8, 7, 7, 7, 6, 5, 3]\n",
    "his = [10, 25, 17, 11, 13, 17, 20, 13, 9, 15] \n",
    "print(round(slope(phy,his,len(phy)),3))"
   ]
  }
 ],
 "metadata": {
  "kernelspec": {
   "display_name": "Python 3",
   "language": "python",
   "name": "python3"
  },
  "language_info": {
   "codemirror_mode": {
    "name": "ipython",
    "version": 3
   },
   "file_extension": ".py",
   "mimetype": "text/x-python",
   "name": "python",
   "nbconvert_exporter": "python",
   "pygments_lexer": "ipython3",
   "version": "3.6.1"
  }
 },
 "nbformat": 4,
 "nbformat_minor": 2
}
