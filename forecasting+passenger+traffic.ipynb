{
 "cells": [
  {
   "cell_type": "code",
   "execution_count": 1,
   "metadata": {},
   "outputs": [
    {
     "name": "stdout",
     "output_type": "stream",
     "text": [
      "10\n",
      "MonthNum_1  1226800\n",
      "MonthNum_2  926891\n",
      "MonthNum_3  782725\n",
      "MonthNum_4  1023038\n",
      "MonthNum_5  1126293\n",
      "MonthNum_6  692565\n",
      "MonthNum_7  1165880\n",
      "MonthNum_8  1207156\n",
      "MonthNum_9  1129954\n",
      "MonthNum_10 745100\n",
      "1002640.2\n",
      "1002640.2\n",
      "1002640.2\n",
      "1002640.2\n",
      "1002640.2\n",
      "1002640.2\n",
      "1002640.2\n",
      "1002640.2\n",
      "1002640.2\n",
      "1002640.2\n",
      "1002640.2\n",
      "1002640.2\n",
      "\n"
     ]
    }
   ],
   "source": [
    "#5.35 - 6.06\n",
    "\n",
    "\n",
    "def forecast_traffic():\n",
    "    n = int(input())\n",
    "    avg = 1.0 * sum([int(input().split()[1]) for _ in range(n)]) / n\n",
    "    print('{}\\n'.format(avg)*12)\n",
    "forecast_traffic()\n",
    "\n"
   ]
  },
  {
   "cell_type": "code",
   "execution_count": null,
   "metadata": {
    "collapsed": true
   },
   "outputs": [],
   "source": [
    "\n",
    "\n",
    "\n",
    "\n",
    "\n",
    "\n",
    "MonthNum_10 745100"
   ]
  }
 ],
 "metadata": {
  "kernelspec": {
   "display_name": "Python 3",
   "language": "python",
   "name": "python3"
  },
  "language_info": {
   "codemirror_mode": {
    "name": "ipython",
    "version": 3
   },
   "file_extension": ".py",
   "mimetype": "text/x-python",
   "name": "python",
   "nbconvert_exporter": "python",
   "pygments_lexer": "ipython3",
   "version": "3.6.1"
  }
 },
 "nbformat": 4,
 "nbformat_minor": 2
}
