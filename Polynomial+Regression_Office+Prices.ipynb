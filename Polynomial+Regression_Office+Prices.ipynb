{
 "cells": [
  {
   "cell_type": "code",
   "execution_count": null,
   "metadata": {
    "collapsed": true
   },
   "outputs": [],
   "source": [
    "# Enter your code here. Read input from STDIN. Print output to STDOUT\n",
    "import fileinput\n",
    "from sklearn.linear_model import LinearRegression\n",
    "from sklearn.preprocessing import PolynomialFeatures\n",
    "\n",
    "#######Extract the Training and Testing data\n",
    "\n",
    "i=-1\n",
    "for line in fileinput.input():\n",
    "    if i==-1:\n",
    "        no_feature= int(line.split(\" \")[0])\n",
    "        no_row = int(line.split(\" \")[1])\n",
    "        \n",
    "        training_feature= []\n",
    "        training_class=[]\n",
    "        testing_feature=[]\n",
    "        i=0\n",
    "    elif i<no_row:\n",
    "        training_vector= [float(x) for x in line.split(\" \")]\n",
    "        training_feature.append(training_vector[0:-1])\n",
    "        training_class.append(training_vector[-1])\n",
    "        i=i+1\n",
    "    else:\n",
    "        testing_vector= [float(x) for x in line.split(\" \")]\n",
    "        if len(testing_vector)>1:\n",
    "            testing_feature.append(testing_vector)\n",
    "\n",
    "#######Transform the features\n",
    "poly = PolynomialFeatures(degree=2)\n",
    "processed_training_feature = poly.fit_transform(training_feature)\n",
    "\n",
    "#######Build the Model\n",
    "model = LinearRegression().fit(processed_training_feature,training_class)\n",
    "testing_processed = poly.fit_transform(testing_feature)\n",
    "\n",
    "#######Predict the Output\n",
    "prediction=model.predict(testing_processed)\n",
    "for each_prediction in prediction:\n",
    "    print(each_prediction)"
   ]
  },
  {
   "cell_type": "code",
   "execution_count": null,
   "metadata": {
    "collapsed": true
   },
   "outputs": [],
   "source": []
  }
 ],
 "metadata": {
  "kernelspec": {
   "display_name": "Python 3",
   "language": "python",
   "name": "python3"
  },
  "language_info": {
   "codemirror_mode": {
    "name": "ipython",
    "version": 3
   },
   "file_extension": ".py",
   "mimetype": "text/x-python",
   "name": "python",
   "nbconvert_exporter": "python",
   "pygments_lexer": "ipython3",
   "version": "3.6.1"
  }
 },
 "nbformat": 4,
 "nbformat_minor": 2
}
